{
  "nbformat": 4,
  "nbformat_minor": 0,
  "metadata": {
    "colab": {
      "name": "01-3_BreamAndSmelt.ipynb",
      "provenance": [],
      "collapsed_sections": [],
      "toc_visible": true,
      "authorship_tag": "ABX9TyNtqCg4zKcrhLvEy07AfVm/",
      "include_colab_link": true
    },
    "kernelspec": {
      "name": "python3",
      "display_name": "Python 3"
    },
    "language_info": {
      "name": "python"
    }
  },
  "cells": [
    {
      "cell_type": "markdown",
      "metadata": {
        "id": "view-in-github",
        "colab_type": "text"
      },
      "source": [
        "<a href=\"https://colab.research.google.com/github/acslab21/honkongm/blob/main/01_3_BreamAndSmelt.ipynb\" target=\"_parent\"><img src=\"https://colab.research.google.com/assets/colab-badge.svg\" alt=\"Open In Colab\"/></a>"
      ]
    },
    {
      "cell_type": "markdown",
      "metadata": {
        "id": "DzPNM1gOwiig"
      },
      "source": [
        "# 마켓과 머신러닝\n",
        "\n",
        "\n"
      ]
    },
    {
      "cell_type": "code",
      "metadata": {
        "colab": {
          "base_uri": "https://localhost:8080/",
          "height": 297
        },
        "id": "tiEWiXv_wVi1",
        "outputId": "1f0bfc0f-1958-4cef-b506-2b3b273d5f3f"
      },
      "source": [
        "# 마켓과 머신러닝 ()\n",
        "# 그래프 패키지 : 맷플롯립 이용,  산점도함수 scatter 이용\n",
        "import matplotlib.pyplot as plt \n",
        "\n",
        "bream_length = [25.4, 26.3, 26.5, 29.0, 29.0, 29.7, 29.7, 30.0, 30.0, 30.7, 31.0, 31.0, \n",
        "                31.5, 32.0, 32.0, 32.0, 33.0, 33.0, 33.5, 33.5, 34.0, 34.0, 34.5, 35.0, \n",
        "                35.0, 35.0, 35.0, 36.0, 36.0, 37.0, 38.5, 38.5, 39.5, 41.0, 41.0]\n",
        "bream_weight = [242.0, 290.0, 340.0, 363.0, 430.0, 450.0, 500.0, 390.0, 450.0, 500.0, 475.0, 500.0, \n",
        "                500.0, 340.0, 600.0, 600.0, 700.0, 700.0, 610.0, 650.0, 575.0, 685.0, 620.0, 680.0, \n",
        "                700.0, 725.0, 720.0, 714.0, 850.0, 1000.0, 920.0, 955.0, 925.0, 975.0, 950.0]\n",
        "\n",
        "smelt_length = [9.8, 10.5, 10.6, 11.0, 11.2, 11.3, 11.8, 11.8, 12.0, 12.2, 12.4, 13.0, 14.3, 15.0]\n",
        "smelt_weight = [6.7, 7.5, 7.0, 9.7, 9.8, 8.7, 10.0, 9.9, 9.8, 12.2, 13.4, 12.2, 19.7, 19.9]\n",
        "\n",
        "plt.scatter(bream_length, bream_weight)\n",
        "plt.scatter(smelt_length, smelt_weight)\n",
        "\n",
        "plt.xlabel('length')\n",
        "plt.ylabel('weight')\n",
        "# plt.show()\n",
        "\n",
        "# 머신러닝 시작 ....첫번째 머신러닝 모델 만들기 \n",
        "# START ----------------------------------------- \n",
        "\n",
        "length = bream_length + smelt_length\n",
        "weight = bream_weight + smelt_weight\n",
        "\n",
        "# 정답지 데이터 생성 \n",
        "\n",
        "fish_data = [ [l,w] for l, w in zip(length, weight)]\n",
        "fish_target = [1] * 35 + [0] * 14\n",
        "\n",
        "# print(fish_target)\n",
        "\n",
        "# 사이킷런(sklearn) k-최근접 알고리즘 클래스 import \n",
        "from sklearn.neighbors import KNeighborsClassifier\n",
        "\n",
        "# 클래스 객체 생성\n",
        "kn = KNeighborsClassifier(n_neighbors=5)\n",
        "\n",
        "# 학습데이터와 정답데이터 전달해서 학습(training)\n",
        "kn.fit(fish_data, fish_target)\n",
        "\n",
        "# 사이킷런에서 모델 평가 \n",
        "kn.score(fish_data, fish_target)\n",
        "\n",
        "# END ----------------------------------------- \n",
        "\n",
        "plt.scatter(bream_length, bream_weight)\n",
        "plt.scatter(smelt_length, smelt_weight)\n",
        "plt.scatter(15, 150, marker='^')\n",
        "plt.xlabel('length')\n",
        "plt.ylabel('weight')\n",
        "plt.show()\n",
        "\n",
        "kn.predict([[15, 150]])\n",
        "\n",
        "# print(kn._fit_X)\n",
        "#  print(kn._y)\n",
        "\n",
        "\n",
        "#kn49 = KNeighborsClassifier(n_neighbors=49)\n",
        "\n",
        "# kn49.fit(fish_data, fish_target)\n",
        "# kn49.score(fish_data, fish_target)\n",
        "\n",
        "#print(35/49)"
      ],
      "execution_count": 17,
      "outputs": [
        {
          "output_type": "display_data",
          "data": {
            "image/png": "[encoded data removed]",
            "text/plain": [
              "<Figure size 432x288 with 1 Axes>"
            ]
          },
          "metadata": {
            "tags": [],
            "needs_background": "light"
          }
        },
        {
          "output_type": "execute_result",
          "data": {
            "text/plain": [
              "array([0])"
            ]
          },
          "metadata": {
            "tags": []
          },
          "execution_count": 17
        }
      ]
    }
  ]
}